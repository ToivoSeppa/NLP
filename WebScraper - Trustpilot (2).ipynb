{
 "cells": [
  {
   "cell_type": "markdown",
   "id": "d22cd470-f093-463f-887e-a380a3c7d852",
   "metadata": {},
   "source": [
    "### Imports"
   ]
  },
  {
   "cell_type": "code",
   "execution_count": 1,
   "id": "3ad2ce7d",
   "metadata": {},
   "outputs": [],
   "source": [
    "import requests\n",
    "from bs4 import BeautifulSoup\n",
    "import pandas as pd\n",
    "import time"
   ]
  },
  {
   "cell_type": "markdown",
   "id": "fe2a1205-c818-4708-a45b-85bfd384b9b7",
   "metadata": {},
   "source": [
    "### Webbskraparen"
   ]
  },
  {
   "cell_type": "code",
   "execution_count": 6,
   "id": "846b85aa",
   "metadata": {},
   "outputs": [
    {
     "name": "stdout",
     "output_type": "stream",
     "text": [
      "--- 335.5764138698578 seconds ---\n"
     ]
    }
   ],
   "source": [
    "start_time = time.time()\n",
    "\n",
    "#Sparar request för page 1-200 i en lista\n",
    "urlres = []\n",
    "for x in range(200):\n",
    "    res = requests.get(\"https://fi.trustpilot.com/review/flixbus.com?languages=all&page=\" + str(x+1))\n",
    "    urlres.append(res)\n",
    "    \n",
    "#Använder BeautifulSoup för att konvertera requesterna till BeautifulSoup element och sparar i soup-variabeln\n",
    "#Appendar alla sidor ihop för att få alla fem sidor till en variabel\n",
    "soup = BeautifulSoup(urlres[0].text, 'html.parser')\n",
    "\n",
    "for x in range(499):\n",
    "    soup2 = BeautifulSoup(urlres[x+1].text, 'html.parser')\n",
    "    soup.html.append(soup2.html)\n",
    "    \n",
    "#print(soup)\n",
    "\n",
    "titles = soup.findAll(\"h2\", {\"class\": \"typography_heading-s__f7029 typography_appearance-default__AAY17\"})\n",
    "titleClean = []\n",
    "for row in titles:\n",
    "    titleClean.append(row.text)\n",
    "    \n",
    "#titleClean\n",
    "\n",
    "bodyText = soup.findAll(\"p\", {\"class\": \"typography_body-l__KUYFJ typography_appearance-default__AAY17 typography_color-black__5LYEn\"})\n",
    "bodyTextClean = []\n",
    "for row in bodyText:\n",
    "    bodyTextClean.append(row.text)\n",
    "    \n",
    "\n",
    "ratings = soup.findAll(\"div\", {\"class\":\"styles_reviewHeader__iU9Px\"})\n",
    "ratingClean = []\n",
    "for row in ratings:\n",
    "    ratingClean.append(str(row)[68])\n",
    "\n",
    "\n",
    "location = soup.findAll(\"div\", {\"class\":\"typography_body-m__xgxZ_ typography_appearance-subtle__8_H2l styles_detailsIcon__Fo_ua\"})\n",
    "locationClean = []\n",
    "locationClean1 = []\n",
    "for row in location:\n",
    "    locationClean.append(str(row.find_all(\"span\")))\n",
    "    \n",
    "for row in locationClean:\n",
    "    locationClean1.append(row[7:9])\n",
    "\n",
    "\n",
    "date = soup.findAll(\"div\", {\"class\":\"typography_body-m__xgxZ_ typography_appearance-subtle__8_H2l styles_datesWrapper__RCEKH\"})\n",
    "dateClean = []\n",
    "dateClean1 = []\n",
    "for row in date:\n",
    "    dateClean.append(str(row.find_all(\"time\")))\n",
    "    \n",
    "for row in dateClean:\n",
    "    dateClean1.append(row[67:77])\n",
    "\n",
    "#dateClean1\n",
    "print(\"--- %s seconds ---\" % (time.time() - start_time))"
   ]
  },
  {
   "cell_type": "markdown",
   "id": "c87ef2b3-68ee-49fe-b06d-6648c912de4a",
   "metadata": {},
   "source": [
    "### Skapar en pandas dataram"
   ]
  },
  {
   "cell_type": "code",
   "execution_count": 10,
   "id": "05aa616d",
   "metadata": {},
   "outputs": [
    {
     "data": {
      "text/html": [
       "<div>\n",
       "<style scoped>\n",
       "    .dataframe tbody tr th:only-of-type {\n",
       "        vertical-align: middle;\n",
       "    }\n",
       "\n",
       "    .dataframe tbody tr th {\n",
       "        vertical-align: top;\n",
       "    }\n",
       "\n",
       "    .dataframe thead th {\n",
       "        text-align: right;\n",
       "    }\n",
       "</style>\n",
       "<table border=\"1\" class=\"dataframe\">\n",
       "  <thead>\n",
       "    <tr style=\"text-align: right;\">\n",
       "      <th></th>\n",
       "      <th>Titel</th>\n",
       "      <th>Brödtext</th>\n",
       "      <th>Gradering</th>\n",
       "      <th>Plats</th>\n",
       "      <th>Datum</th>\n",
       "      <th>Webbsida</th>\n",
       "    </tr>\n",
       "  </thead>\n",
       "  <tbody>\n",
       "  </tbody>\n",
       "</table>\n",
       "</div>"
      ],
      "text/plain": [
       "Empty DataFrame\n",
       "Columns: [Titel, Brödtext, Gradering, Plats, Datum, Webbsida]\n",
       "Index: []"
      ]
     },
     "execution_count": 10,
     "metadata": {},
     "output_type": "execute_result"
    }
   ],
   "source": [
    "website = []\n",
    "\n",
    "for row in titleClean:\n",
    "    website.append(\"Trustpilot\")\n",
    "\n",
    "reviewsDF = pd.DataFrame( [titleClean,bodyTextClean,ratingClean,locationClean1,dateClean1,website], \n",
    "                         index=[\"Titel\",\"Brödtext\",\"Gradering\",\"Plats\",\"Datum\",\"Webbsida\"])\n",
    "\n",
    "reviewsDF = reviewsDF.transpose()\n",
    "reviewsDF.head(20)"
   ]
  },
  {
   "cell_type": "code",
   "execution_count": 12,
   "id": "63fbb173",
   "metadata": {},
   "outputs": [
    {
     "data": {
      "text/html": [
       "<div>\n",
       "<style scoped>\n",
       "    .dataframe tbody tr th:only-of-type {\n",
       "        vertical-align: middle;\n",
       "    }\n",
       "\n",
       "    .dataframe tbody tr th {\n",
       "        vertical-align: top;\n",
       "    }\n",
       "\n",
       "    .dataframe thead th {\n",
       "        text-align: right;\n",
       "    }\n",
       "</style>\n",
       "<table border=\"1\" class=\"dataframe\">\n",
       "  <thead>\n",
       "    <tr style=\"text-align: right;\">\n",
       "      <th></th>\n",
       "      <th>Titel</th>\n",
       "      <th>Brödtext</th>\n",
       "      <th>Gradering</th>\n",
       "      <th>Plats</th>\n",
       "      <th>Datum</th>\n",
       "      <th>Webbsida</th>\n",
       "    </tr>\n",
       "  </thead>\n",
       "  <tbody>\n",
       "    <tr>\n",
       "      <th>count</th>\n",
       "      <td>0.0</td>\n",
       "      <td>0.0</td>\n",
       "      <td>0.0</td>\n",
       "      <td>0.0</td>\n",
       "      <td>0.0</td>\n",
       "      <td>0.0</td>\n",
       "    </tr>\n",
       "    <tr>\n",
       "      <th>mean</th>\n",
       "      <td>NaN</td>\n",
       "      <td>NaN</td>\n",
       "      <td>NaN</td>\n",
       "      <td>NaN</td>\n",
       "      <td>NaN</td>\n",
       "      <td>NaN</td>\n",
       "    </tr>\n",
       "    <tr>\n",
       "      <th>std</th>\n",
       "      <td>NaN</td>\n",
       "      <td>NaN</td>\n",
       "      <td>NaN</td>\n",
       "      <td>NaN</td>\n",
       "      <td>NaN</td>\n",
       "      <td>NaN</td>\n",
       "    </tr>\n",
       "    <tr>\n",
       "      <th>min</th>\n",
       "      <td>NaN</td>\n",
       "      <td>NaN</td>\n",
       "      <td>NaN</td>\n",
       "      <td>NaN</td>\n",
       "      <td>NaN</td>\n",
       "      <td>NaN</td>\n",
       "    </tr>\n",
       "    <tr>\n",
       "      <th>25%</th>\n",
       "      <td>NaN</td>\n",
       "      <td>NaN</td>\n",
       "      <td>NaN</td>\n",
       "      <td>NaN</td>\n",
       "      <td>NaN</td>\n",
       "      <td>NaN</td>\n",
       "    </tr>\n",
       "    <tr>\n",
       "      <th>50%</th>\n",
       "      <td>NaN</td>\n",
       "      <td>NaN</td>\n",
       "      <td>NaN</td>\n",
       "      <td>NaN</td>\n",
       "      <td>NaN</td>\n",
       "      <td>NaN</td>\n",
       "    </tr>\n",
       "    <tr>\n",
       "      <th>75%</th>\n",
       "      <td>NaN</td>\n",
       "      <td>NaN</td>\n",
       "      <td>NaN</td>\n",
       "      <td>NaN</td>\n",
       "      <td>NaN</td>\n",
       "      <td>NaN</td>\n",
       "    </tr>\n",
       "    <tr>\n",
       "      <th>max</th>\n",
       "      <td>NaN</td>\n",
       "      <td>NaN</td>\n",
       "      <td>NaN</td>\n",
       "      <td>NaN</td>\n",
       "      <td>NaN</td>\n",
       "      <td>NaN</td>\n",
       "    </tr>\n",
       "  </tbody>\n",
       "</table>\n",
       "</div>"
      ],
      "text/plain": [
       "       Titel  Brödtext  Gradering  Plats  Datum  Webbsida\n",
       "count    0.0       0.0        0.0    0.0    0.0       0.0\n",
       "mean     NaN       NaN        NaN    NaN    NaN       NaN\n",
       "std      NaN       NaN        NaN    NaN    NaN       NaN\n",
       "min      NaN       NaN        NaN    NaN    NaN       NaN\n",
       "25%      NaN       NaN        NaN    NaN    NaN       NaN\n",
       "50%      NaN       NaN        NaN    NaN    NaN       NaN\n",
       "75%      NaN       NaN        NaN    NaN    NaN       NaN\n",
       "max      NaN       NaN        NaN    NaN    NaN       NaN"
      ]
     },
     "execution_count": 12,
     "metadata": {},
     "output_type": "execute_result"
    }
   ],
   "source": [
    "reviewsDF.describe()"
   ]
  },
  {
   "cell_type": "code",
   "execution_count": 17,
   "id": "1d514c1c",
   "metadata": {},
   "outputs": [],
   "source": [
    "reviewsDF.to_csv('trustpilot_flix_bus.csv', index=False)"
   ]
  },
  {
   "cell_type": "code",
   "execution_count": null,
   "id": "b1e23840-5bab-4164-a5ae-f67978787403",
   "metadata": {},
   "outputs": [],
   "source": []
  }
 ],
 "metadata": {
  "kernelspec": {
   "display_name": "Python 3 (ipykernel)",
   "language": "python",
   "name": "python3"
  },
  "language_info": {
   "codemirror_mode": {
    "name": "ipython",
    "version": 3
   },
   "file_extension": ".py",
   "mimetype": "text/x-python",
   "name": "python",
   "nbconvert_exporter": "python",
   "pygments_lexer": "ipython3",
   "version": "3.11.5"
  }
 },
 "nbformat": 4,
 "nbformat_minor": 5
}
